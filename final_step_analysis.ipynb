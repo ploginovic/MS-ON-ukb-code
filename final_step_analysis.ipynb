{
 "cells": [
  {
   "cell_type": "code",
   "execution_count": null,
   "metadata": {},
   "outputs": [],
   "source": [
    "import pandas as pd\n",
    "import matplotlib.pyplot as plt \n",
    "import seaborn as sns\n",
    "import numpy as np\n",
    "from statannot import add_stat_annotation\n",
    "from sklearn import metrics"
   ]
  },
  {
   "cell_type": "code",
   "execution_count": null,
   "metadata": {},
   "outputs": [],
   "source": [
    "import os\n",
    "current_dir = os.getcwd()\n",
    "file_name = \"on_ms_white_british_2502.tsv\"\n",
    "\n",
    "if os.path.exists(os.path.join(current_dir, file_name)):\n",
    "    file_path = current_dir + \"/\" + file_name\n",
    "    \n",
    "else:\n",
    "    print(\"File not accessbile, please define file_path manually\")"
   ]
  },
  {
   "cell_type": "code",
   "execution_count": null,
   "metadata": {},
   "outputs": [],
   "source": [
    "#file_path = \"/slade/home/pl450/ON_UKBB/1601_cph_analysis/on_ms_genpop_1801.tsv\""
   ]
  },
  {
   "cell_type": "code",
   "execution_count": null,
   "metadata": {},
   "outputs": [],
   "source": [
    "from datetime import date\n",
    "today = date.today().strftime(\"%m/%d/%y\").replace(\"/\", \"_\")\n",
    "\n",
    "population = \"\"\n",
    "if \"genpop\" in file_name :\n",
    "    population = \"genpop\"\n",
    "    print(\"File containging general popualtion is used\")\n",
    "    \n",
    "elif \"white_british\" in file_name:\n",
    "    population = \"white_british\"\n",
    "    print(\"File containing white british is used\")\n",
    "    \n",
    "elif population == \"\":\n",
    "    print(\"defining an appropriate string failed\")\n",
    "\n",
    "\n",
    "#This funciton is to create dated labels for saved .png elements  \n",
    "def create_png_label(png_descr):\n",
    "    if len(population)>0:\n",
    "        png_file_name = str(population) +\"_\"+str(png_descr)+\"_\"+str(today)+\".png\"\n",
    "    else:\n",
    "        print(\"Population not defined\")\n",
    "    return(str(png_file_name))\n"
   ]
  },
  {
   "cell_type": "code",
   "execution_count": null,
   "metadata": {},
   "outputs": [],
   "source": [
    "data = pd.read_csv(file_path, sep = \"\\t\", low_memory=False)"
   ]
  },
  {
   "cell_type": "code",
   "execution_count": null,
   "metadata": {},
   "outputs": [],
   "source": [
    "#Defining population groups and their attributes, such as labels, plot colours\n",
    "\n",
    "controls = data[data.ON_group == \"Controls\"]\n",
    "control_label = \"Controls\"\n",
    "control_colour = 'lightgreen'\n",
    "\n",
    "ON_group = data[data.ON_group == \"ON only\"]\n",
    "ON_label = \"ON only\"\n",
    "ON_colour = \"indianred\"\n",
    "\n",
    "\n",
    "MS_group = data[data.ON_group == \"MS only\"]\n",
    "MS_label = \"MS only\"\n",
    "MS_colour = \"steelblue\"\n",
    "\n",
    "\n",
    "ON_and_MS_group = data[data.ON_group == \"MS-ON\"]\n",
    "ON_and_MS_label = \"MS-ON\"\n",
    "ON_and_MS_colour = \"darkmagenta\"\n"
   ]
  },
  {
   "cell_type": "code",
   "execution_count": null,
   "metadata": {},
   "outputs": [],
   "source": [
    "#Plotting histogram + KDE for all groups. NB: MS-GRS is called 'full_expanded'\n",
    "\n",
    "font = {'family': 'sans-serif',\n",
    "        'weight': 'light',\n",
    "        'size': 11,\n",
    "        }\n",
    "\n",
    "plt.rc('font', **font)\n",
    "\n",
    "kwargs = dict(kde_kws={'linewidth':2}, hist_kws={'alpha':.2}, rug_kws = {'alpha':0.8, 'linewidth':.9, 'height':0.2})\n",
    "plt.figure(figsize=(10,7), dpi= 300)\n",
    "\n",
    "#Listing all groups, labels and colors to be plotted\n",
    "\n",
    "groups = [controls.full_expanded, ON_group.full_expanded, ON_and_MS_group.full_expanded, MS_group.full_expanded]\n",
    "labels = [control_label, ON_label, ON_and_MS_label, MS_label]\n",
    "colours = [control_colour, ON_colour, ON_and_MS_colour, MS_colour]\n",
    "\n",
    "\n",
    "for (group,label,colour) in zip(groups, labels, colours):\n",
    "    sns.distplot(group, color = colour,\n",
    "                 label = \"{pop_label}, n={len_df}\".format(pop_label = label,len_df=len(group)),\n",
    "                 **kwargs, bins=20)\n",
    "\n",
    "\n",
    "#plt.title('Distribution of MS-GRS')\n",
    "plt.xlabel(\"MS-GRS\", fontdict=font)\n",
    "plt.title('MS-GRS distribution in 4 groups')\n",
    "plt.legend()\n",
    "\n",
    "\n",
    "plt.savefig(create_png_label(\"4_group_hist\"))"
   ]
  },
  {
   "cell_type": "code",
   "execution_count": null,
   "metadata": {},
   "outputs": [],
   "source": [
    "#Plotting a fugire without positive or negative controls\n",
    "\n",
    "plt.figure(figsize=(10,7), dpi= 300)\n",
    "\n",
    "groups_two = [ ON_group.full_expanded, ON_and_MS_group.full_expanded]\n",
    "labels_two = [ ON_label, ON_and_MS_label]\n",
    "colours_two = [ON_colour, ON_and_MS_colour]\n",
    "\n",
    "\n",
    "kwargs = dict(kde_kws={'linewidth':2}, hist_kws={'alpha':.2}, rug_kws = {'alpha':0.7, 'linewidth':.75, 'height':0.05})\n",
    "\n",
    "for (group,label,colour) in zip(groups_two, labels_two, colours_two):\n",
    "    sns.distplot(group, color = colour, rug=True,\n",
    "                 label = \"{pop_label}, n={len_df}\".format(pop_label = label,len_df=len(group)),\n",
    "                 **kwargs, bins=22)\n",
    "\n",
    "\n",
    "#plt.title('Distribution of MS-GRS')\n",
    "plt.xlabel(\"MS-GRS\", fontdict=font)\n",
    "plt.legend()\n",
    "plt.ylim([0, 0.40])\n",
    "plt.title('MS-GRS in MS-ON vs ON Only', fontdict=font)\n",
    "\n",
    "plt.savefig(create_png_label('on_vs_ms_hist'))"
   ]
  },
  {
   "cell_type": "code",
   "execution_count": null,
   "metadata": {},
   "outputs": [],
   "source": [
    "# A function to create a pallette for seaborn violin plots\n",
    "\n",
    "def create_palette(labels, colours):\n",
    "    palette = {}\n",
    "    for (label, colour) in zip(labels, colours):\n",
    "        palette.update({label:colour})\n",
    "    return(palette)\n"
   ]
  },
  {
   "cell_type": "code",
   "execution_count": null,
   "metadata": {},
   "outputs": [],
   "source": [
    "# 4 group violin plot with in-figure text – text position adjusted for 6x6 plt.figure figeize and 4 groups\n",
    "\n",
    "\n",
    "from statannot import add_stat_annotation\n",
    "\n",
    "plt.figure(figsize= [6, 6], dpi=300, facecolor=None)\n",
    "\n",
    "\n",
    "upd_pal= create_palette(labels, colours)\n",
    "\n",
    "ax = sns.violinplot(x = 'ON_group', y='full_expanded',data=data, inner = 'box', palette = upd_pal, order =upd_pal.keys())\n",
    "ax.set_xlabel('Group', fontsize = 12)\n",
    "ax.set_ylabel('MS-GRS')\n",
    "for violin, alpha in zip(ax.collections[::2], [0.85,0.85,0.85,0.8]):\n",
    "    violin.set_alpha(alpha)\n",
    "\n",
    "add_stat_annotation(ax, data=data, x='ON_group', y='full_expanded', order = upd_pal.keys(),\n",
    "                    box_pairs=[(\"MS-ON\", \"MS only\"), (\"MS-ON\", \"ON only\"), (\"ON only\", \"Controls\")],\n",
    "                    test='Mann-Whitney', text_format='star', loc='inside', verbose=2)\n",
    "\n",
    "#ax.text(-0.2,-2.7,'n=481K')\n",
    "#ax.text(0.8,-1.5,'n=421')\n",
    "#ax.text(1.8,-1.5,'n=266')\n",
    "#ax.text(2.8,-1.5,'n=2103')\n",
    "\n",
    "plt.tight_layout()\n",
    "\n",
    "\n",
    "plt.savefig(create_png_label('4_group_violin'))"
   ]
  },
  {
   "cell_type": "code",
   "execution_count": null,
   "metadata": {},
   "outputs": [],
   "source": []
  },
  {
   "cell_type": "code",
   "execution_count": null,
   "metadata": {},
   "outputs": [],
   "source": [
    "#Creating a dummy Sex_Female\n",
    "data = pd.get_dummies(data, columns=['Sex'], drop_first=False)\n",
    "data.drop(labels = 'Sex_Male',axis=1, inplace=True)"
   ]
  },
  {
   "cell_type": "code",
   "execution_count": null,
   "metadata": {},
   "outputs": [],
   "source": [
    "from sklearn.metrics import roc_curve\n",
    "from sklearn.metrics import roc_auc_score\n",
    "from sklearn.linear_model import LogisticRegression\n",
    "from sklearn.model_selection import cross_val_score\n",
    "from sklearn.model_selection import RepeatedKFold\n",
    "\n",
    "\n",
    "#This function performs Repeated K Fold cross-validation\n",
    "\n",
    "def crossval_logreg_rocauc(x,y):\n",
    "    \n",
    "    \"\"\"Takes x and y of data, and returns fpr, tpr, avg_auc and array of all AUCs in a tuple\"\"\"\n",
    "    \n",
    "    \n",
    "    fpr_dict = {}\n",
    "    tpr_dict = {}\n",
    "    auc_arr = []\n",
    "\n",
    "    index=0\n",
    "\n",
    "    rkf = RepeatedKFold(n_splits=3, n_repeats=10)\n",
    "    \n",
    "#rkf.split generates indices to split data into training and test sets\n",
    "    for train_index, test_index in rkf.split(x):\n",
    "\n",
    "    #The following assigns instances to either Train or Test based on indixes derived before\n",
    "    \n",
    "    \n",
    "        X_train, X_test = x.loc[train_index], x.loc[test_index]\n",
    "        y_train, y_test = np.ravel(y.loc[train_index]), np.ravel(y.loc[test_index])\n",
    "    \n",
    "        #This is just to check that it's working\n",
    "        #print((\"TRAIN:\", train_index[0:10], \"TEST:\", test_index[0:10]))\n",
    "        \n",
    "\n",
    "    #Fit logistic regression with train data and predict probabilities using X_test\n",
    "        logreg = LogisticRegression(max_iter=700).fit(X_train, y_train)\n",
    "        pred_prob1 = logreg.predict_proba(X_test)\n",
    "\n",
    "    #ROC-AUC calculation, and saving them to a dictionary\n",
    "        fpr1, tpr1, thresh1 = roc_curve(y_test, pred_prob1[:,1], pos_label=1)\n",
    "        fpr_dict.update({str('take_{i}'.format(i=index)):fpr1})\n",
    "        tpr_dict.update({str('take_{i}'.format(i=index)):tpr1})\n",
    "        index +=1\n",
    "\n",
    "    #Calculating ROC-AUC score for each iteraiton/fold\n",
    "        auc_score1 = roc_auc_score(y_test, pred_prob1[:,1])\n",
    "        auc_arr.append(auc_score1)\n",
    "    \n",
    "\n",
    "#Transforming dictionary with false-positive and true-positive rates (fpr, tpr) into a DataFrame\n",
    "    fpr_df = pd.DataFrame(dict([(k,pd.Series(v)) for k,v in fpr_dict.items()]))\n",
    "    fpr_df[\"avg\"] = fpr_df.mean(axis = 1)\n",
    "\n",
    "    tpr_df = pd.DataFrame(dict([(k,pd.Series(v)) for k,v in tpr_dict.items()]))\n",
    "    tpr_df[\"avg\"] = tpr_df.mean(axis = 1)\n",
    "\n",
    "#Calculating mean ROC-AUC from cross-validation\n",
    "    avg_auc = np.mean(auc_arr)\n",
    "    avg_auc\n",
    "    \n",
    "    \n",
    "    \n",
    "    return(fpr_df, tpr_df, avg_auc, auc_arr)"
   ]
  },
  {
   "cell_type": "code",
   "execution_count": null,
   "metadata": {},
   "outputs": [],
   "source": [
    "#Calculating ROC-AUC without the cross-validation\n",
    "\n",
    "def empirical_fpr_tpr(x,y):\n",
    "    \n",
    "    logreg = LogisticRegression(max_iter=700).fit(x,np.ravel(y))\n",
    "    pred_prob1 = logreg.predict_proba(x)\n",
    "    \n",
    "    fpr_emp, tpr_emp, _ = roc_curve(y, pred_prob1[:,1], pos_label=1)\n",
    "    \n",
    "    auc_score_emp = roc_auc_score(y, pred_prob1[:,1])\n",
    "    \n",
    "    return(fpr_emp, tpr_emp, auc_score_emp)"
   ]
  },
  {
   "cell_type": "code",
   "execution_count": null,
   "metadata": {},
   "outputs": [],
   "source": [
    "\n",
    "data.TDI.fillna(data.TDI.mean(), inplace=True)\n",
    "#data = data[data.TDI.notna()]\n",
    "#data = data[data.BMI.notna()]\n",
    "#data = data[data.Sex.notna()]\n",
    "#data = data[data.MS_any.notna()]"
   ]
  },
  {
   "cell_type": "code",
   "execution_count": null,
   "metadata": {},
   "outputs": [],
   "source": [
    "#Defining what variabvalue_countsbe used in each model: Null, Full, MS-GRS only, HLA-GRS only, non-HLA-GRS only\n",
    "\n",
    "y = data.loc[:,[\"MS_any\"]]\n",
    "\n",
    "x_null = data.loc[:,[\"Sex_Female\", \"TDI\", \"PC1\", \"PC2\", \"PC3\", \"PC4\", \"enrol_age\"]]\n",
    "\n",
    "x_full = data.loc[:,['full_expanded',\"Sex_Female\", \"TDI\", \"PC1\", \"PC2\", \"PC3\", \"PC4\", \"enrol_age\"]]\n",
    "\n",
    "x_grs = data.loc[:,['full_expanded']]\n",
    "\n",
    "x_hlagrs = data.loc[:,['ten_full_hla']]\n",
    "\n",
    "x_nonhlagrs = data.loc[:,['expanded_nonhla_grs']]\n"
   ]
  },
  {
   "cell_type": "code",
   "execution_count": null,
   "metadata": {},
   "outputs": [],
   "source": [
    "null_crossval = crossval_logreg_rocauc(x_null,y)\n",
    "full_crossval = crossval_logreg_rocauc(x_full, y)\n",
    "grs_crossval = crossval_logreg_rocauc(x_grs, y)\n",
    "\n",
    "null_empirical = empirical_fpr_tpr(x_null, y)\n",
    "full_empirical = empirical_fpr_tpr(x_full, y)\n",
    "grs_empirical = empirical_fpr_tpr(x_grs, y)\n"
   ]
  },
  {
   "cell_type": "code",
   "execution_count": null,
   "metadata": {},
   "outputs": [],
   "source": [
    "hlagrs_crossval = crossval_logreg_rocauc(x_hlagrs, y)\n",
    "nonhlagrs_crossval = crossval_logreg_rocauc(x_nonhlagrs, y)\n",
    "\n",
    "hlagrs_empirical = empirical_fpr_tpr(x_hlagrs, y)\n",
    "nonhlagrs_empirical = empirical_fpr_tpr(x_nonhlagrs, y)"
   ]
  },
  {
   "cell_type": "code",
   "execution_count": null,
   "metadata": {},
   "outputs": [],
   "source": [
    "grs_crossval[2]\n",
    "\n",
    "print(full_crossval[2], full_empirical[2], null_crossval[2], null_empirical[2], grs_crossval[2], grs_empirical[2])\n",
    "\n",
    "print(hlagrs_crossval[2],hlagrs_empirical[2],nonhlagrs_crossval[2], nonhlagrs_empirical[2])"
   ]
  },
  {
   "cell_type": "code",
   "execution_count": null,
   "metadata": {},
   "outputs": [],
   "source": [
    "font = {'family': 'sans-serif',\n",
    "        'weight': 'light',\n",
    "        'size': 11,\n",
    "        }\n",
    "\n",
    "plt.rc('font', **font)\n",
    "\n",
    "\n",
    "plt.figure(figsize= [6, 6], dpi=180, facecolor=None)\n",
    "\n",
    "\n",
    "#Plotting ROC-AUC curves\n",
    "\n",
    "plt.plot(grs_empirical[0], grs_empirical[1],\n",
    "         label = 'MS-GRS (AUC={i})'.format(i=round(grs_crossval[2],3)), linewidth = 1.2, color='seagreen')\n",
    "\n",
    "plt.plot(hlagrs_empirical[0], hlagrs_empirical[1],\n",
    "         label = 'HLA-GRS (AUC={i})'.format(i=round(hlagrs_crossval[2],3)), linewidth = 1.2, color ='darkorange'  )\n",
    "\n",
    "plt.plot(nonhlagrs_empirical[0], nonhlagrs_empirical[1],\n",
    "         label = 'non-HLA-GRS (AUC={i})'.format(i=round(nonhlagrs_crossval[2],3)), linewidth = 1.2, color = 'darkturquoise' )\n",
    "\n",
    "\n",
    "plt.plot([0, 1], [0, 1], color='dimgrey', linewidth=1.2, linestyle='--')\n",
    "\n",
    "plt.grid(which='minor', alpha=0.05)\n",
    "plt.grid(which='major', alpha=0.1)\n",
    "\n",
    "\n",
    "plt.xlabel('False Positive Rate' )\n",
    "plt.ylabel('True Positive Rate')\n",
    "plt.legend(prop={'size': 7})\n",
    "plt.savefig(create_png_label('roc_hlavsnonhla_models'))"
   ]
  },
  {
   "cell_type": "code",
   "execution_count": null,
   "metadata": {},
   "outputs": [],
   "source": [
    "#Plotting ROC-AUC curves for MS-GRS only, MS=GRS + covariates and NULL model\n",
    "\n",
    "plt.rc('font', **font)\n",
    "\n",
    "\n",
    "plt.figure(figsize= [6, 6], dpi=180, facecolor=None)\n",
    "\n",
    "\n",
    "plt.plot(grs_empirical[0], grs_empirical[1],\n",
    "         label = 'MS-GRS Only (AUC={i})'.format(i=round(grs_crossval[2],3)), linewidth = 1.2, color='seagreen')\n",
    "\n",
    "plt.plot(full_empirical[0], full_empirical[1],\n",
    "         label = 'MS-GRS + Covariates (AUC={i})'.format(i=round(full_crossval[2],3)), linewidth = 1.2, color ='indianred'  )\n",
    "\n",
    "plt.plot(null_empirical[0], null_empirical[1],\n",
    "         label = 'Null model (AUC={i})'.format(i=round(null_crossval[2],3)), linewidth = 1.2, color = 'darkturquoise' )\n",
    "\n",
    "\n",
    "plt.plot([0, 1], [0, 1], color='dimgrey', linewidth=1.2, linestyle='--')\n",
    "\n",
    "plt.grid(which='minor', alpha=0.05)\n",
    "plt.grid(which='major', alpha=0.1)\n",
    "\n",
    "\n",
    "plt.xlabel('False Positive Rate' )\n",
    "plt.ylabel('True Positive Rate')\n",
    "plt.legend(prop={'size': 7})\n",
    "plt.savefig(create_png_label('roc_auc_3_models'))"
   ]
  },
  {
   "cell_type": "code",
   "execution_count": null,
   "metadata": {},
   "outputs": [],
   "source": []
  },
  {
   "cell_type": "markdown",
   "metadata": {},
   "source": []
  },
  {
   "cell_type": "code",
   "execution_count": null,
   "metadata": {},
   "outputs": [],
   "source": [
    "def stratify_kmf(data, cut_off_dict):\n",
    "    \n",
    "    \"\"\"Requires data_frame and cut_off_dict, returns a tuple of groups\"\"\"\n",
    "    vars_list = []\n",
    "    \n",
    "    for cut_off in cut_off_dict:\n",
    "        if cut_off == 0:\n",
    "            var = data[((data.cph_prediction >= data.cph_prediction.quantile(q=cut_off)) &\n",
    "                   (data.cph_prediction <= data.cph_prediction.quantile(q=cut_off_dict.get(cut_off))))]\n",
    "        elif cut_off >0:\n",
    "            var = data[((data.cph_prediction > data.cph_prediction.quantile(q=cut_off)) &\n",
    "                       (data.cph_prediction <= data.cph_prediction.quantile(q=cut_off_dict.get(cut_off))))]\n",
    "        vars_list.append(var)\n",
    "    return vars_list"
   ]
  },
  {
   "cell_type": "code",
   "execution_count": null,
   "metadata": {},
   "outputs": [],
   "source": [
    "cut_off_tertiles = {0:1/3, 1/3:2/3, 2/3:1}\n",
    "cut_off_threequarts = {0:.25, .25:.75, .75:1}\n",
    "cut_off_quarts = {0:.25, .25:.5, .5:.75, .75:1}"
   ]
  },
  {
   "cell_type": "code",
   "execution_count": null,
   "metadata": {},
   "outputs": [],
   "source": [
    "#Defininf. funciton used for Kaplan-Meier (KM) plotting \n",
    "\n",
    "def plot_km(data, cut_off_dict, plot_label, save_label=\"Unnamed\", figsize = [6,6]):\n",
    "    \n",
    "    \"\"\"Params: data_frame, cut_off_dict, plot_label, save_label and figsize. Returns a KM plot\"\"\"\n",
    "    \n",
    "    stratified_data = stratify_kmf(data, cut_off_dict)\n",
    "    \n",
    "    if cut_off_dict == cut_off_quarts:\n",
    "        \n",
    "        kmf_labels = [\"1st qrt\", \"2nd qrt\", \"3rd qrt\", '4th qrt']\n",
    "        \n",
    "        kmf_firstq, kmf_secondq, kmf_thirdq, kmf_fourthq = KaplanMeierFitter(), KaplanMeierFitter(), KaplanMeierFitter(), KaplanMeierFitter()\n",
    "        models = [kmf_firstq, kmf_secondq, kmf_thirdq, kmf_fourthq]\n",
    "        \n",
    "        \n",
    "    elif cut_off_dict == cut_off_threequarts:\n",
    "        \n",
    "        kmf_labels = [\"1st quart\", \"2nd-3rd quart\", \"4th quart\"]\n",
    "        kmf_firstq, kmf_secondq, kmf_thirdq = KaplanMeierFitter(), KaplanMeierFitter(), KaplanMeierFitter()\n",
    "        \n",
    "        models = [kmf_firstq, kmf_secondq, kmf_thirdq]\n",
    "        \n",
    "\n",
    "    elif cut_off_dict == cut_off_tertiles:\n",
    "        \n",
    "        kmf_labels = [\"1st tertile\", \"2nd-3rd tertile\", \"4th tertile\"]\n",
    "        kmf_firstq, kmf_secondq, kmf_thirdq = KaplanMeierFitter(), KaplanMeierFitter(), KaplanMeierFitter()\n",
    "        \n",
    "        models = [kmf_firstq, kmf_secondq, kmf_thirdq]\n",
    "        \n",
    "    else:\n",
    "        print(\"Cut off dictioniary invalid\")\n",
    "        end()\n",
    "        \n",
    "    plt.figure(figsize= figsize, dpi=180, facecolor=None)\n",
    "    \n",
    "    for (group, group_label, kmf_model) in zip(stratified_data, kmf_labels, models):\n",
    "        kmf_model.fit(group.ON_to_MS_years, group.first_ON, label = '{group}, n={i}'.format(\n",
    "            group = group_label, i = len(group)))\n",
    "        ax = kmf_model.plot(show_censors = True, censor_styles = {'ms': 3, 'marker': 'o'})\n",
    "    \n",
    "    ax.set_xlim([0.0, 40.0])\n",
    "    ax.set_ylim([0.0, 1.0])\n",
    "    \n",
    "    plt.title(plot_label) \n",
    "    plt.xlabel(\"MS-free survival in years\")\n",
    "    plt.ylabel(\"MS-free survival probability\")\n",
    "    \n",
    "    if len(cut_off_dict)==3:\n",
    "        add_at_risk_counts(models[0], models[1], models[2], fontsize= 'small')\n",
    "    \n",
    "    if len(cut_off_dict)==4:\n",
    "        add_at_risk_counts(models[0], models[1], models[2],models[3], fontsize= 'small')\n",
    "    \n",
    "    plt.tight_layout()\n",
    "    \n",
    "\n",
    "    \n",
    "    plt.savefig(create_png_label(save_label))\n",
    "    plt.show()"
   ]
  },
  {
   "cell_type": "code",
   "execution_count": null,
   "metadata": {},
   "outputs": [],
   "source": [
    "data.first_ON.fillna(0, inplace=True)\n",
    "\n",
    "on_to_ms_data = data[(((data.ON_any ==1)) & (data.first_MS !=1) & (data.simult_MS_ON !=1)\n",
    "                      & (data.died!=1) & (np.isnan(data.ON_to_MS_years)==False))]\n",
    "\n",
    "kmf_data = on_to_ms_data.loc[:,['full_expanded','first_ON','ON_to_MS_years',\n",
    "                               \"Sex_Female\", 'age18to50', 'age_ON']]\n",
    "\n",
    "kmf_data.rename(mapper= {\"full_expanded\":\"cph_prediction\"}, axis = 1, inplace = True)"
   ]
  },
  {
   "cell_type": "code",
   "execution_count": null,
   "metadata": {},
   "outputs": [],
   "source": [
    "from lifelines import KaplanMeierFitter\n",
    "from lifelines.plotting import add_at_risk_counts\n",
    "\n",
    "plot_km(kmf_data, cut_off_threequarts, 'Unadjusted KM, by MS-GRS quartile', 'unadjusted_KM_mergedquartiles')"
   ]
  },
  {
   "cell_type": "code",
   "execution_count": null,
   "metadata": {},
   "outputs": [],
   "source": []
  },
  {
   "cell_type": "code",
   "execution_count": null,
   "metadata": {},
   "outputs": [],
   "source": [
    "kmf_unadj_data = kmf_data\n",
    "\n",
    "\n",
    "kmf_unadj_data['Sex'] = kmf_unadj_data.Sex_Female\n",
    "kmf_unadj_data.loc[kmf_unadj_data.Sex_Female ==0 ,'Sex' ] = 'male'\n",
    "kmf_unadj_data.loc[kmf_unadj_data.Sex_Female ==1 ,'Sex' ] = 'female'\n",
    "\n",
    "kmf_unadj_data.loc[kmf_unadj_data.first_ON ==0 ,\"first_ON\"] = 'ON only'\n",
    "kmf_unadj_data.loc[kmf_unadj_data.first_ON ==1 ,\"first_ON\"] = 'MS-ON'\n",
    "\n",
    "\n",
    "\n",
    "kmf_strat = stratify_kmf(kmf_unadj_data, cut_off_threequarts)\n",
    "\n",
    "\n",
    "for i in kmf_strat:\n",
    "    print(i.groupby('Sex')['age18to50'].value_counts())\n",
    "    #print(i.Sex.value_counts())\n",
    "    #print(i[i.first_ON =='MS-ON'].Sex.value_counts())\n",
    "    \n",
    "    \n",
    "kmf_unadj_data.rename(mapper= {\"cph_prediction\":\"full_expanded\"}, axis = 1, inplace = True)"
   ]
  },
  {
   "cell_type": "code",
   "execution_count": null,
   "metadata": {},
   "outputs": [],
   "source": [
    "# This plots a graph between age at ON diag and MS-GRS\n",
    "sns.lmplot(data=kmf_unadj_data, x=\"full_expanded\", y=\"age_ON\", hue=\"first_ON\")"
   ]
  },
  {
   "cell_type": "code",
   "execution_count": null,
   "metadata": {},
   "outputs": [],
   "source": [
    "plot_km(kmf_data, cut_off_quarts, 'Unadjusted KM, by MS-GRS quartile', 'unadjusted_KM_quartiles', figsize = [5,6])"
   ]
  },
  {
   "cell_type": "code",
   "execution_count": null,
   "metadata": {},
   "outputs": [],
   "source": []
  },
  {
   "cell_type": "code",
   "execution_count": null,
   "metadata": {},
   "outputs": [],
   "source": []
  },
  {
   "cell_type": "code",
   "execution_count": null,
   "metadata": {},
   "outputs": [],
   "source": [
    "from lifelines import CoxPHFitter\n",
    "\n",
    "\n",
    "cph_data =on_to_ms_data.loc[:,['full_expanded','first_ON','ON_to_MS_years',\n",
    "                               'Sex_Female', 'age18to50']]\n",
    "\n",
    "\n",
    "#cph_data = pd.get_dummies(cph_data, columns=['smoking_status'], drop_first=True)\n",
    "\n",
    "cph = CoxPHFitter()\n",
    "\n",
    "cph.fit(cph_data, duration_col='ON_to_MS_years', event_col='first_ON')\n",
    "cph.print_summary()\n",
    "cph.plot()\n",
    "cph_data['cph_prediction'] = cph.predict_partial_hazard(cph_data)\n"
   ]
  },
  {
   "cell_type": "code",
   "execution_count": null,
   "metadata": {},
   "outputs": [],
   "source": [
    "cph_data[data.first_ON==0].enrol_age_years.describe()"
   ]
  },
  {
   "cell_type": "code",
   "execution_count": null,
   "metadata": {},
   "outputs": [],
   "source": []
  },
  {
   "cell_type": "code",
   "execution_count": null,
   "metadata": {},
   "outputs": [],
   "source": [
    "cph_data_test = cph_data.loc[:, cph_data.columns != 'cph_prediction']\n",
    "cph.check_assumptions(cph_data_test, p_value_threshold=0.05, show_plots=True)"
   ]
  },
  {
   "cell_type": "code",
   "execution_count": null,
   "metadata": {},
   "outputs": [],
   "source": [
    "plot_km(cph_data, cut_off_threequarts, 'GRS Cox model, by quartile', 'GRS_cox_mergequart')"
   ]
  },
  {
   "cell_type": "code",
   "execution_count": null,
   "metadata": {},
   "outputs": [],
   "source": [
    "plot_km(cph_data, cut_off_quarts, 'GRS Cox model, by quartile', 'GRS_cox_4quart', figsize = [5,6])"
   ]
  },
  {
   "cell_type": "code",
   "execution_count": null,
   "metadata": {},
   "outputs": [],
   "source": [
    "plot_km(cph_data, cut_off_tertiles, \"GRS Cox model, by tertile\", 'coxgrs_tertile' )"
   ]
  },
  {
   "cell_type": "code",
   "execution_count": null,
   "metadata": {},
   "outputs": [],
   "source": [
    "cph_grs_tert = stratify_kmf(cph_data, cut_off_tertiles)"
   ]
  },
  {
   "cell_type": "code",
   "execution_count": null,
   "metadata": {},
   "outputs": [],
   "source": [
    "cut_off_threequint = {0:.2, .2:.8, .8:1 }\n",
    "three_quint_groups = stratify_kmf(cph_data, cut_off_threequint)\n"
   ]
  },
  {
   "cell_type": "code",
   "execution_count": null,
   "metadata": {},
   "outputs": [],
   "source": [
    "\n",
    "\n",
    "label_strat= ['Low Risk', 'Interm. Risk', 'High Risk']\n",
    "\n",
    "cph_data['Sex'] = cph_data.Sex_Female\n",
    "cph_data.loc[cph_data.Sex_Female ==0 ,'Sex' ] = 'male'\n",
    "cph_data.loc[cph_data.Sex_Female ==1 ,'Sex' ] = 'female'\n",
    "\n",
    "cph_data.loc[cph_data.first_ON ==0 ,\"first_ON\"] = 'ON only'\n",
    "cph_data.loc[cph_data.first_ON ==1 ,\"first_ON\"] = 'MS-ON'\n",
    "\n",
    "\n",
    "    "
   ]
  },
  {
   "cell_type": "code",
   "execution_count": null,
   "metadata": {},
   "outputs": [],
   "source": [
    "#describing results\n",
    "\n",
    "stratified_cph_quarts = stratify_kmf(cph_data, cut_off_quarts)\n",
    "for i in stratified_cph_quarts:\n",
    "    \n",
    "    #print(i.Sex.value_counts())\n",
    "    #print(i[i.first_ON =='MS-ON'].Sex.value_counts())\n",
    "    #print(i.age18to50.value_counts())\n",
    "    print(i.groupby('age18to50')['Sex'].value_counts())"
   ]
  },
  {
   "cell_type": "code",
   "execution_count": null,
   "metadata": {},
   "outputs": [],
   "source": [
    "plt.figure(figsize= [6,3], dpi=300)\n",
    "sns.histplot(x='cph_prediction',y = \"Sex\", hue='first_ON', hue_order=['ON only', 'MS-ON'],\n",
    "             data = cph_data,palette='Set2',binwidth=0.009)\n",
    "\n",
    "#plt.legend()\n",
    "plt.xlabel('Cox predicted risk, GRS model')\n",
    "plt.ylabel('Sex')\n",
    "plt.savefig(create_png_label(\"coxgrs_histbandplot\"))"
   ]
  },
  {
   "cell_type": "code",
   "execution_count": null,
   "metadata": {},
   "outputs": [],
   "source": []
  },
  {
   "cell_type": "code",
   "execution_count": null,
   "metadata": {},
   "outputs": [],
   "source": [
    "plt.figure(figsize= [6, 4], dpi=300, facecolor=None)\n",
    "\n",
    "sns.boxenplot(x=\"Sex\", y=\"cph_prediction\",hue=\"first_ON\",hue_order=['ON only', 'MS-ON'],\n",
    "              palette=create_palette(labels_two, colours_two), data=cph_data)\n",
    "#sns.swarmplot(x=\"Sex\", y=\"cph_prediction\", hue=\"first_ON\", palette=\"Set1\", size=4, data=cph_data)\n",
    "\n",
    "sns.rugplot(data=cph_data, y=\"cph_prediction\", hue=\"first_ON\", lw=0.8, alpha=.5,\n",
    "            palette=create_palette(labels_two, colours_two))\n",
    "plt.ylabel('COX predicted risk of MS, GRS model', fontdict=font)\n",
    "plt.legend()\n",
    "plt.tight_layout()\n",
    "plt.ylim([-.5, 5.1])\n",
    "\n",
    "plt.savefig(create_png_label('cphgrs_boxen'))"
   ]
  },
  {
   "cell_type": "code",
   "execution_count": null,
   "metadata": {},
   "outputs": [],
   "source": [
    "sns.histplot(x=\"enrol_age_years\", hue='first_ON', data=cph_data, multiple='stack' )"
   ]
  },
  {
   "cell_type": "code",
   "execution_count": null,
   "metadata": {},
   "outputs": [],
   "source": [
    "\n"
   ]
  },
  {
   "cell_type": "code",
   "execution_count": null,
   "metadata": {},
   "outputs": [],
   "source": []
  },
  {
   "cell_type": "code",
   "execution_count": null,
   "metadata": {},
   "outputs": [],
   "source": []
  },
  {
   "cell_type": "code",
   "execution_count": null,
   "metadata": {},
   "outputs": [],
   "source": []
  },
  {
   "cell_type": "code",
   "execution_count": null,
   "metadata": {},
   "outputs": [],
   "source": []
  },
  {
   "cell_type": "code",
   "execution_count": null,
   "metadata": {},
   "outputs": [],
   "source": []
  },
  {
   "cell_type": "code",
   "execution_count": null,
   "metadata": {},
   "outputs": [],
   "source": [
    "null_cph_data =data.loc[(((data.ON_any ==1)) & (data.first_MS !=1) &\n",
    "                (data.simult_MS_ON !=1) &(data.died!=1) &\n",
    "                (data.ON_to_MS_years >=0)), ['first_ON','ON_to_MS_years',\"Sex_Female\",'age18to50', \"PC1\"]]\n",
    "                                                \n",
    "\n",
    "\n",
    "null_cph = CoxPHFitter()\n",
    "\n",
    "null_cph.fit(null_cph_data, duration_col='ON_to_MS_years', event_col='first_ON')\n",
    "null_cph.print_summary()\n",
    "null_cph.plot()\n",
    "null_cph_data['cph_prediction'] = null_cph.predict_partial_hazard(null_cph_data)"
   ]
  },
  {
   "cell_type": "code",
   "execution_count": null,
   "metadata": {},
   "outputs": [],
   "source": [
    "plot_km(null_cph_data, cut_off_dict=cut_off_threequarts, plot_label='Null CPH, by quartile', save_label= \"coxnull_mergedquartile\")"
   ]
  },
  {
   "cell_type": "code",
   "execution_count": null,
   "metadata": {},
   "outputs": [],
   "source": [
    "plot_km(null_cph_data, cut_off_dict=cut_off_quarts, plot_label='Null CPH, by quartile', save_label= \"coxnull_quartile\", figsize=[5, 6] )"
   ]
  },
  {
   "cell_type": "code",
   "execution_count": null,
   "metadata": {},
   "outputs": [],
   "source": [
    "plot_km(null_cph_data, cut_off_dict=cut_off_tertiles, plot_label='Null CPH, by tertile', save_label= \"coxnull_tertile\" )"
   ]
  },
  {
   "cell_type": "code",
   "execution_count": null,
   "metadata": {},
   "outputs": [],
   "source": [
    "\n",
    "label_strat= ['Low Risk', 'Interm. Risk', 'High Risk']\n",
    "\n",
    "null_cph_data['Sex'] = null_cph_data.Sex_Female\n",
    "null_cph_data.loc[cph_data.Sex_Female ==0 ,'Sex' ] = 'male'\n",
    "null_cph_data.loc[cph_data.Sex_Female ==1 ,'Sex' ] = 'female'\n",
    "\n",
    "null_cph_data.loc[cph_data.first_ON ==0 ,\"first_ON\"] = 'ON only'\n",
    "null_cph_data.loc[cph_data.first_ON ==1 ,\"first_ON\"] = 'MS-ON'\n"
   ]
  },
  {
   "cell_type": "code",
   "execution_count": null,
   "metadata": {},
   "outputs": [],
   "source": [
    "stratified_cph_quarts = stratify_kmf(null_cph_data, cut_off_quarts)\n",
    "for i in stratified_cph_quarts:\n",
    "    \n",
    "    #print(i.Sex.value_counts())\n",
    "    #print(i[i.first_ON =='MS-ON'].Sex.value_counts())\n",
    "    #print(i.age18to50.value_counts())\n",
    "    print(i.groupby('Sex')['first_ON'].value_counts())"
   ]
  },
  {
   "cell_type": "code",
   "execution_count": null,
   "metadata": {},
   "outputs": [],
   "source": []
  },
  {
   "cell_type": "code",
   "execution_count": null,
   "metadata": {},
   "outputs": [],
   "source": []
  },
  {
   "cell_type": "code",
   "execution_count": null,
   "metadata": {},
   "outputs": [],
   "source": [
    "null_cph_data['Sex'] = null_cph_data.Sex_Female\n",
    "\n",
    "null_cph_data.loc[null_cph_data.Sex_Female ==0,'Sex' ] = 'male'\n",
    "null_cph_data.loc[null_cph_data.Sex_Female ==1 ,'Sex' ] = 'female'\n",
    "\n",
    "null_cph_data.loc[null_cph_data.first_ON ==1 ,\"first_ON\"] = 'MS-ON'\n",
    "null_cph_data.loc[null_cph_data.first_ON ==0 ,\"first_ON\"] = 'ON only'\n",
    "\n",
    "\n",
    "plt.figure(figsize= [6, 4], dpi=300, facecolor=None)\n",
    "\n",
    "sns.boxenplot(x=\"Sex\", y=\"cph_prediction\",hue='first_ON',palette=create_palette(labels_two, colours_two),\n",
    "              data=null_cph_data, hue_order=['ON only', 'MS-ON'])\n",
    "#sns.swarmplot(x=\"Sex\", y=\"cph_prediction\", hue=\"first_ON\", palette=\"Set1\", size=4, data=cph_data)\n",
    "\n",
    "sns.rugplot(data=null_cph_data, y=\"cph_prediction\", hue=\"first_ON\", lw=0.6, alpha=.5,\n",
    "            palette=create_palette(labels_two, colours_two))\n",
    "plt.ylabel('Predicted risk, Null Cox model')\n",
    "plt.legend()\n",
    "plt.tight_layout()\n",
    "plt.ylim([-.5, 6.2])\n",
    "\n",
    "plt.savefig(create_png_label('null_boxen'))"
   ]
  },
  {
   "cell_type": "code",
   "execution_count": null,
   "metadata": {},
   "outputs": [],
   "source": [
    "from lifelines.statistics import logrank_test"
   ]
  },
  {
   "cell_type": "code",
   "execution_count": null,
   "metadata": {},
   "outputs": [],
   "source": []
  },
  {
   "cell_type": "code",
   "execution_count": null,
   "metadata": {},
   "outputs": [],
   "source": [
    "#Performing log-likelihood ratio test\n",
    "\n",
    "import scipy\n",
    "#LR_statstic is supposed to be the chi-squared\n",
    "LR_statistic = -2*(null_cph.log_likelihood_-cph.log_likelihood_)\n",
    "\n",
    "#p_val is calculated using scipy.stats chi-squared to p-val. How many DFs should be included?\n",
    "\n",
    "p_val = scipy.stats.chi2.sf(LR_statistic, 1)\n",
    "\n",
    "print(\"LLR-test MS-GRS vs NULL: \", p_val)"
   ]
  },
  {
   "cell_type": "code",
   "execution_count": null,
   "metadata": {},
   "outputs": [],
   "source": []
  },
  {
   "cell_type": "code",
   "execution_count": null,
   "metadata": {},
   "outputs": [],
   "source": [
    "#Further I was just exploring other models using the same code + same Log-likelihood test"
   ]
  },
  {
   "cell_type": "code",
   "execution_count": null,
   "metadata": {},
   "outputs": [],
   "source": [
    "best_cph_data =data.loc[(((data.ON_any ==1)) & (data.first_MS !=1) &\n",
    "                (data.simult_MS_ON !=1) &(data.died!=1) &\n",
    "                (data.ON_to_MS_years >=0)), ['full_expanded','first_ON','ON_to_MS_years',\"Sex_Female\",'age18to50', 'enrol_age_years']]\n",
    "                                                \n",
    "\n",
    "\n",
    "best_cph = CoxPHFitter()\n",
    "\n",
    "best_cph.fit(best_cph_data, duration_col='ON_to_MS_years', event_col='first_ON')\n",
    "best_cph.print_summary()\n",
    "best_cph.plot()\n",
    "best_cph_data['cph_prediction'] = best_cph.predict_partial_hazard(best_cph_data)\n"
   ]
  },
  {
   "cell_type": "code",
   "execution_count": null,
   "metadata": {},
   "outputs": [],
   "source": [
    "plot_km(best_cph_data, cut_off_threequarts, 'Age at Enrol + proposed CPH model', 'bestCPH_threequarts')"
   ]
  },
  {
   "cell_type": "code",
   "execution_count": null,
   "metadata": {},
   "outputs": [],
   "source": [
    "plot_km(best_cph_data, cut_off_quarts, 'Age at Enrol + proposed CPH model', 'bestCPH_quarts', figsize = [5,6])"
   ]
  },
  {
   "cell_type": "code",
   "execution_count": null,
   "metadata": {},
   "outputs": [],
   "source": [
    "plot_km(best_cph_data, cut_off_tertiles, 'Age at Enrol + proposed CPH model by tertiles', 'bestCPH_terts')"
   ]
  },
  {
   "cell_type": "code",
   "execution_count": null,
   "metadata": {},
   "outputs": [],
   "source": [
    "label_strat= ['Low Risk', 'Interm. Risk', 'High Risk']\n",
    "\n",
    "best_cph_data['Sex'] = best_cph_data.Sex_Female\n",
    "best_cph_data.loc[best_cph_data.Sex_Female ==0 ,'Sex' ] = 'male'\n",
    "best_cph_data.loc[best_cph_data.Sex_Female ==1 ,'Sex' ] = 'female'\n",
    "\n",
    "best_cph_data.loc[best_cph_data.first_ON ==0 ,\"first_ON\"] = 'ON only'\n",
    "best_cph_data.loc[best_cph_data.first_ON ==1 ,\"first_ON\"] = 'MS-ON'\n",
    "\n",
    "\n",
    "stratified_cph_quarts = stratify_kmf(best_cph_data, cut_off_quarts)\n",
    "for i in stratified_cph_quarts:\n",
    "    \n",
    "    #print(i.Sex.value_counts())\n",
    "    #print(i[i.first_ON =='MS-ON'].Sex.value_counts())\n",
    "    #print(i.age18to50.value_counts())\n",
    "    print(i.groupby('Sex')['age18to50'].value_counts())"
   ]
  },
  {
   "cell_type": "code",
   "execution_count": null,
   "metadata": {},
   "outputs": [],
   "source": [
    "sns.lmplot(x='enrol_age_years', y='cph_prediction', hue='first_ON' ,data = best_cph_data)"
   ]
  },
  {
   "cell_type": "code",
   "execution_count": null,
   "metadata": {},
   "outputs": [],
   "source": [
    "sns.displot(x='enrol_age_years', hue='Sex', data = best_cph_data)"
   ]
  },
  {
   "cell_type": "code",
   "execution_count": null,
   "metadata": {},
   "outputs": [],
   "source": [
    "sns.histplot(x='enrol_age_years', y='full_expanded', data = best_cph_data, hue='first_ON', alpha = 0.7)"
   ]
  },
  {
   "cell_type": "code",
   "execution_count": null,
   "metadata": {},
   "outputs": [],
   "source": [
    "bestnull_cph_data =data.loc[(((data.ON_any ==1)) & (data.first_MS !=1) &\n",
    "                (data.simult_MS_ON !=1) &(data.died!=1) &\n",
    "                (data.ON_to_MS_years >=0)), ['first_ON','ON_to_MS_years',\"Sex_Female\",'age18to50', 'enrol_age_years', 'PC1']]\n",
    "                                                \n",
    "\n",
    "\n",
    "bestnull_cph = CoxPHFitter()\n",
    "\n",
    "bestnull_cph.fit(bestnull_cph_data, duration_col='ON_to_MS_years', event_col='first_ON')\n",
    "bestnull_cph.print_summary()\n",
    "bestnull_cph.plot()\n",
    "bestnull_cph_data['cph_prediction'] = bestnull_cph.predict_partial_hazard(bestnull_cph_data)\n",
    "\n"
   ]
  },
  {
   "cell_type": "code",
   "execution_count": null,
   "metadata": {},
   "outputs": [],
   "source": [
    "plot_km(bestnull_cph_data, cut_off_quarts, 'best NULL', 'bestnull_mergedquarts', figsize=[5,6])"
   ]
  },
  {
   "cell_type": "code",
   "execution_count": null,
   "metadata": {},
   "outputs": [],
   "source": [
    "label_strat= ['Low Risk', 'Interm. Risk', 'High Risk']\n",
    "\n",
    "bestnull_cph_data['Sex'] = bestnull_cph_data.Sex_Female\n",
    "bestnull_cph_data.loc[best_cph_data.Sex_Female ==0 ,'Sex' ] = 'male'\n",
    "bestnull_cph_data.loc[bestnull_cph_data.Sex_Female ==1 ,'Sex' ] = 'female'\n",
    "\n",
    "bestnull_cph_data.loc[bestnull_cph_data.first_ON ==0 ,\"first_ON\"] = 'ON only'\n",
    "bestnull_cph_data.loc[bestnull_cph_data.first_ON ==1 ,\"first_ON\"] = 'MS-ON'\n",
    "\n",
    "\n",
    "\n",
    "for i in stratify_kmf(bestnull_cph_data, cut_off_quarts):\n",
    "    \n",
    "    #print(i.Sex.value_counts())\n",
    "    #print(i[i.first_ON =='MS-ON'].Sex.value_counts())\n",
    "    #print(i.age18to50.value_counts())\n",
    "    print(i.groupby('Sex')['age18to50'].value_counts())"
   ]
  },
  {
   "cell_type": "code",
   "execution_count": null,
   "metadata": {},
   "outputs": [],
   "source": [
    "# Very not sure about this log_likelihood test – is it mathematically correct?\n",
    "\n",
    "import scipy\n",
    "#LR_statstic is supposed to be the chi-squared\n",
    "LR_statistic = -2*(bestnull_cph.log_likelihood_-best_cph.log_likelihood_)\n",
    "\n",
    "#p_val is calculated using scipy.stats chi-squared to p-val. How many DFs should be included?\n",
    "#Also, does this method work for partial LL?\n",
    "\n",
    "p_val = scipy.stats.chi2.sf(LR_statistic, 1)\n",
    "\n",
    "print(p_val)"
   ]
  },
  {
   "cell_type": "code",
   "execution_count": null,
   "metadata": {},
   "outputs": [],
   "source": [
    "bestnull_cph.log_likelihood_LR_statistic"
   ]
  },
  {
   "cell_type": "code",
   "execution_count": null,
   "metadata": {},
   "outputs": [],
   "source": [
    "null_cph.log_likelihood_"
   ]
  },
  {
   "cell_type": "code",
   "execution_count": null,
   "metadata": {},
   "outputs": [],
   "source": [
    "best_cph.log_likelihood_"
   ]
  },
  {
   "cell_type": "code",
   "execution_count": null,
   "metadata": {},
   "outputs": [],
   "source": [
    "cph.log_likelihood_"
   ]
  },
  {
   "cell_type": "code",
   "execution_count": null,
   "metadata": {},
   "outputs": [],
   "source": []
  },
  {
   "cell_type": "code",
   "execution_count": null,
   "metadata": {},
   "outputs": [],
   "source": []
  }
 ],
 "metadata": {
  "kernelspec": {
   "display_name": "Python 3",
   "language": "python",
   "name": "python3"
  },
  "language_info": {
   "codemirror_mode": {
    "name": "ipython",
    "version": 3
   },
   "file_extension": ".py",
   "mimetype": "text/x-python",
   "name": "python",
   "nbconvert_exporter": "python",
   "pygments_lexer": "ipython3",
   "version": "3.8.5"
  }
 },
 "nbformat": 4,
 "nbformat_minor": 4
}
